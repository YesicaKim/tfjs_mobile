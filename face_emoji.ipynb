{
 "cells": [
  {
   "cell_type": "code",
   "execution_count": 18,
   "metadata": {
    "colab": {},
    "colab_type": "code",
    "id": "JefzBdOHui4u"
   },
   "outputs": [],
   "source": [
    "import numpy as np\n",
    "from tqdm import tqdm\n",
    "import os\n",
    "\n",
    "import tensorflow as tf\n",
    "from matplotlib import pyplot as plt\n",
    "from tensorflow.keras.callbacks import Callback\n",
    "from tensorflow.keras import backend as K \n",
    "import math"
   ]
  },
  {
   "cell_type": "code",
   "execution_count": 19,
   "metadata": {
    "colab": {},
    "colab_type": "code",
    "id": "qVxl18z_vGsi"
   },
   "outputs": [],
   "source": [
    "train_x = []\n",
    "train_y = []\n",
    "eval_x = []\n",
    "eval_y = []"
   ]
  },
  {
   "cell_type": "code",
   "execution_count": 20,
   "metadata": {},
   "outputs": [
    {
     "name": "stderr",
     "output_type": "stream",
     "text": [
      "100%|██████████| 35887/35887 [00:22<00:00, 1617.14it/s]"
     ]
    },
    {
     "name": "stdout",
     "output_type": "stream",
     "text": [
      "train : 32298, eval :3589\n"
     ]
    },
    {
     "name": "stderr",
     "output_type": "stream",
     "text": [
      "\n"
     ]
    }
   ],
   "source": [
    "csv_path = os.getenv('HOME')+'/aiffel/tfjs_mobile/data/fer2013.csv'\n",
    "\n",
    "with open(csv_path) as f:\n",
    "    for line in tqdm(f.read().splitlines()[1:]):\n",
    "        emotion, pixels, usage = line.split(',')\n",
    "    \n",
    "        x = np.array(pixels.split(' ')).astype(float).reshape(48, 48, 1) / 255\n",
    "        y = int(emotion)\n",
    "\n",
    "        if usage == 'PrivateTest':\n",
    "            eval_x.append(x)\n",
    "            eval_y.append(y)\n",
    "        else:\n",
    "            train_x.append(x)\n",
    "            train_y.append(y)\n",
    "\n",
    "print('train : {}, eval :{}'.format(len(train_x), len(eval_x)))"
   ]
  },
  {
   "cell_type": "code",
   "execution_count": 21,
   "metadata": {
    "scrolled": true
   },
   "outputs": [
    {
     "name": "stdout",
     "output_type": "stream",
     "text": [
      "Angry\n"
     ]
    },
    {
     "data": {
      "text/plain": [
       "<matplotlib.image.AxesImage at 0x7f87464e5550>"
      ]
     },
     "execution_count": 21,
     "metadata": {},
     "output_type": "execute_result"
    },
    {
     "data": {
      "image/png": "[encoded data removed]",
      "text/plain": [
       "<Figure size 432x288 with 1 Axes>"
      ]
     },
     "metadata": {
      "needs_background": "light"
     },
     "output_type": "display_data"
    }
   ],
   "source": [
    "from matplotlib import pyplot as plt\n",
    "\n",
    "LABELS = ['Angry', 'Disgust', 'Fear', 'Happy', 'Sad', 'Surprise', 'Neutral']\n",
    "\n",
    "print(LABELS[train_y[0]])\n",
    "plt.imshow(train_x[0].reshape([48, 48]), cmap='gray')"
   ]
  },
  {
   "cell_type": "code",
   "execution_count": null,
   "metadata": {},
   "outputs": [
    {
     "name": "stdout",
     "output_type": "stream",
     "text": [
      "Epoch 1/10\n",
      "64/64 [==============================] - 7s 105ms/step - loss: 1.8310 - categorical_accuracy: 0.2448 - val_loss: 1.9340 - val_categorical_accuracy: 0.1655\n",
      "Epoch 2/10\n",
      "64/64 [==============================] - 6s 98ms/step - loss: 1.7132 - categorical_accuracy: 0.3113 - val_loss: 1.9286 - val_categorical_accuracy: 0.1744\n",
      "Epoch 3/10\n",
      "64/64 [==============================] - 6s 98ms/step - loss: 1.6102 - categorical_accuracy: 0.3673 - val_loss: 1.9263 - val_categorical_accuracy: 0.1744\n",
      "Epoch 4/10\n",
      "64/64 [==============================] - 6s 99ms/step - loss: 1.5032 - categorical_accuracy: 0.4215 - val_loss: 1.9414 - val_categorical_accuracy: 0.1744\n",
      "Epoch 5/10\n",
      "64/64 [==============================] - 6s 98ms/step - loss: 1.4240 - categorical_accuracy: 0.4525 - val_loss: 1.9562 - val_categorical_accuracy: 0.1368\n",
      "Epoch 6/10\n",
      "64/64 [==============================] - 6s 99ms/step - loss: 1.3511 - categorical_accuracy: 0.4842 - val_loss: 1.9874 - val_categorical_accuracy: 0.0153\n",
      "Epoch 7/10\n",
      "64/64 [==============================] - 6s 100ms/step - loss: 1.2868 - categorical_accuracy: 0.5137 - val_loss: 1.9938 - val_categorical_accuracy: 0.0153\n",
      "Epoch 8/10\n",
      "64/64 [==============================] - 6s 99ms/step - loss: 1.2270 - categorical_accuracy: 0.5381 - val_loss: 2.0196 - val_categorical_accuracy: 0.0153\n",
      "Epoch 9/10\n",
      "23/64 [=========>....................] - ETA: 3s - loss: 1.1251 - categorical_accuracy: 0.5804"
     ]
    }
   ],
   "source": [
    "import tensorflow as tf\n",
    "\n",
    "# model 선언 \n",
    "model = tf.keras.applications.MobileNetV2(input_shape=(48, 48, 1), weights=None, classes=7)\n",
    "\n",
    "# model.compile\n",
    "model.compile(optimizer=tf.keras.optimizers.Adam(learning_rate=0.001),\n",
    "              loss=tf.keras.losses.CategoricalCrossentropy(),\n",
    "              metrics=[tf.keras.metrics.CategoricalAccuracy()])\n",
    "\n",
    "#model.fit\n",
    "hist = model.fit(np.stack(train_x),\n",
    "          tf.keras.utils.to_categorical(train_y),\n",
    "          epochs=10,\n",
    "          batch_size=512,\n",
    "          validation_data=(np.stack(eval_x),\n",
    "                           tf.keras.utils.to_categorical(eval_y)))"
   ]
  },
  {
   "cell_type": "code",
   "execution_count": 24,
   "metadata": {},
   "outputs": [],
   "source": [
    "import os\n",
    "model_path = os.getenv('HOME')+'/aiffel/tfjs_mobile/model.h5'\n",
    "model.save(model_path)"
   ]
  },
  {
   "cell_type": "code",
   "execution_count": 25,
   "metadata": {},
   "outputs": [
    {
     "data": {
      "image/png": "[encoded data removed]",
      "text/plain": [
       "<Figure size 432x288 with 1 Axes>"
      ]
     },
     "metadata": {
      "needs_background": "light"
     },
     "output_type": "display_data"
    }
   ],
   "source": [
    "# 학습 정확성 값과 검증 정확성 값을 플롯팅 합니다. \n",
    "plt.plot(hist.history['categorical_accuracy'])\n",
    "plt.plot(hist.history['val_categorical_accuracy'])\n",
    "plt.title('Model accuracy')\n",
    "plt.ylabel('Accuracy')\n",
    "plt.xlabel('Epoch')\n",
    "plt.legend(['Train', 'validation'], loc='upper left')\n",
    "plt.show()"
   ]
  },
  {
   "cell_type": "code",
   "execution_count": null,
   "metadata": {},
   "outputs": [],
   "source": []
  }
 ],
 "metadata": {
  "accelerator": "GPU",
  "colab": {
   "name": "emoji.ipynb",
   "provenance": []
  },
  "kernelspec": {
   "display_name": "aiffel",
   "language": "python",
   "name": "aiffel"
  },
  "language_info": {
   "codemirror_mode": {
    "name": "ipython",
    "version": 3
   },
   "file_extension": ".py",
   "mimetype": "text/x-python",
   "name": "python",
   "nbconvert_exporter": "python",
   "pygments_lexer": "ipython3",
   "version": "3.7.6"
  }
 },
 "nbformat": 4,
 "nbformat_minor": 1
}
